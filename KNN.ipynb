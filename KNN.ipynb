{
 "cells": [
  {
   "cell_type": "markdown",
   "metadata": {},
   "source": [
    "# knn algorithm from scratch"
   ]
  },
  {
   "cell_type": "code",
   "execution_count": 2,
   "metadata": {},
   "outputs": [],
   "source": [
    "import numpy as np\n",
    "import urllib\n",
    "from urllib.request import urlopen\n",
    "import pandas as pd\n",
    "import time"
   ]
  },
  {
   "cell_type": "code",
   "execution_count": 3,
   "metadata": {},
   "outputs": [],
   "source": [
    "#helper function to set up the dataset\n",
    "def read_file(filename):\n",
    "    temping = []\n",
    "    with open(filename) as f:\n",
    "        for line in f:\n",
    "            temp = list(map(int, line.split()))\n",
    "            temping.append(temp)\n",
    "    return np.array(temping)\n",
    "\n",
    "def split_label(x):\n",
    "    temping = []\n",
    "    temping2 = []\n",
    "    for i in x:\n",
    "        temping.append(i[:-1])\n",
    "        temping2.append(i[-1])\n",
    "    return np.array(temping),np.array(temping2)"
   ]
  },
  {
   "cell_type": "code",
   "execution_count": 5,
   "metadata": {},
   "outputs": [],
   "source": [
    "#read the train set, test set, validation set.\n",
    "train_data = read_file('train_set.txt')\n",
    "test_data = read_file('test_set.txt')\n",
    "validation_data = read_file('validate_set.txt')"
   ]
  },
  {
   "cell_type": "code",
   "execution_count": 6,
   "metadata": {},
   "outputs": [],
   "source": [
    "x_train,y_train = split_label(train_data)\n",
    "x_valid,y_valid = split_label(validation_data)\n",
    "x_test,y_test = split_label(test_data)"
   ]
  },
  {
   "cell_type": "code",
   "execution_count": 7,
   "metadata": {},
   "outputs": [],
   "source": [
    "def find_distance(a,b):\n",
    "    diff = np.array(a)-np.array(b)\n",
    "    return np.sqrt(np.sum(np.square(diff)))"
   ]
  },
  {
   "cell_type": "code",
   "execution_count": 8,
   "metadata": {},
   "outputs": [],
   "source": [
    "from scipy import stats"
   ]
  },
  {
   "cell_type": "code",
   "execution_count": 13,
   "metadata": {},
   "outputs": [],
   "source": [
    "def knn(training,y_training,testing,k):\n",
    "    st = time.time()\n",
    "    predicted_valid = []\n",
    "    for i in range(len(testing)):\n",
    "        d  = []\n",
    "        for j in range(len(training)):\n",
    "            #find the distance between points\n",
    "            d.append(find_distance(testing[i],training[j]))\n",
    "        neighbor_index = np.array(d).argsort()[:k] #find the closest N points\n",
    "        neighbor_result=[]\n",
    "        for index in neighbor_index:\n",
    "            neighbor_result.append(y_training[index])\n",
    "        neighbor_result=np.array(neighbor_result)\n",
    "        if len(stats.mode(neighbor_result).mode)==1:\n",
    "            predict = stats.mode(neighbor_result).mode[0]      \n",
    "        else:\n",
    "            predict = np.random.choice(stats.mode(neighbor_result).mode)\n",
    "        predicted_valid.append(predict)\n",
    "    print(\" %s seconds time\" % (time.time() - st))\n",
    "    return predicted_valid"
   ]
  },
  {
   "cell_type": "markdown",
   "metadata": {},
   "source": [
    "For k = 1, 5, 9 and 15, build k-nearest neighbor classifiers from the training data. For each of these\n",
    "values of k, write down a table of training errors (error on the training data) and the validation errors\n",
    "(error on the validation data)."
   ]
  },
  {
   "cell_type": "code",
   "execution_count": 14,
   "metadata": {},
   "outputs": [
    {
     "name": "stdout",
     "output_type": "stream",
     "text": [
      " 39.276570558547974 seconds time\n",
      " 19.632791996002197 seconds time\n",
      " 19.666377305984497 seconds time\n",
      " 38.72052359580994 seconds time\n",
      " 19.63158130645752 seconds time\n",
      " 20.23234534263611 seconds time\n",
      " 39.767133712768555 seconds time\n",
      " 19.676707983016968 seconds time\n",
      " 19.69752335548401 seconds time\n",
      " 38.55005645751953 seconds time\n",
      " 19.63233780860901 seconds time\n",
      " 19.47134757041931 seconds time\n"
     ]
    }
   ],
   "source": [
    "list_of_k = [1,5,9,15]\n",
    "training_error_rate = []\n",
    "valid_error_rate = []\n",
    "test_error_rate = []\n",
    "for i in list_of_k:\n",
    "    training_predicted = knn(x_train,y_train,x_train,i)\n",
    "    training_error_rate.append(1-(sum(training_predicted == y_train)/len(y_train)))\n",
    "    valid_predicted = knn(x_train,y_train,x_valid,i)\n",
    "    valid_error_rate.append(1-(sum(valid_predicted == y_valid)/len(y_valid)))\n",
    "    test_predicted = knn(x_train,y_train,x_test,i)\n",
    "    test_error_rate.append(1-(sum(test_predicted == y_test)/len(y_test)))"
   ]
  },
  {
   "cell_type": "code",
   "execution_count": 15,
   "metadata": {},
   "outputs": [],
   "source": [
    "table1 = pd.DataFrame({'k' : list_of_k,\n",
    "                        'training error' : training_error_rate,\n",
    "                        'validation error' : valid_error_rate,\n",
    "                      'test error':test_error_rate})"
   ]
  },
  {
   "cell_type": "code",
   "execution_count": 16,
   "metadata": {},
   "outputs": [
    {
     "data": {
      "text/html": [
       "<div>\n",
       "<style scoped>\n",
       "    .dataframe tbody tr th:only-of-type {\n",
       "        vertical-align: middle;\n",
       "    }\n",
       "\n",
       "    .dataframe tbody tr th {\n",
       "        vertical-align: top;\n",
       "    }\n",
       "\n",
       "    .dataframe thead th {\n",
       "        text-align: right;\n",
       "    }\n",
       "</style>\n",
       "<table border=\"1\" class=\"dataframe\">\n",
       "  <thead>\n",
       "    <tr style=\"text-align: right;\">\n",
       "      <th></th>\n",
       "      <th>k</th>\n",
       "      <th>training error</th>\n",
       "      <th>validation error</th>\n",
       "      <th>test error</th>\n",
       "    </tr>\n",
       "  </thead>\n",
       "  <tbody>\n",
       "    <tr>\n",
       "      <th>0</th>\n",
       "      <td>1</td>\n",
       "      <td>0.0000</td>\n",
       "      <td>0.082</td>\n",
       "      <td>0.094</td>\n",
       "    </tr>\n",
       "    <tr>\n",
       "      <th>1</th>\n",
       "      <td>5</td>\n",
       "      <td>0.0565</td>\n",
       "      <td>0.095</td>\n",
       "      <td>0.098</td>\n",
       "    </tr>\n",
       "    <tr>\n",
       "      <th>2</th>\n",
       "      <td>9</td>\n",
       "      <td>0.0685</td>\n",
       "      <td>0.104</td>\n",
       "      <td>0.101</td>\n",
       "    </tr>\n",
       "    <tr>\n",
       "      <th>3</th>\n",
       "      <td>15</td>\n",
       "      <td>0.0925</td>\n",
       "      <td>0.108</td>\n",
       "      <td>0.114</td>\n",
       "    </tr>\n",
       "  </tbody>\n",
       "</table>\n",
       "</div>"
      ],
      "text/plain": [
       "    k  training error  validation error  test error\n",
       "0   1          0.0000             0.082       0.094\n",
       "1   5          0.0565             0.095       0.098\n",
       "2   9          0.0685             0.104       0.101\n",
       "3  15          0.0925             0.108       0.114"
      ]
     },
     "execution_count": 16,
     "metadata": {},
     "output_type": "execute_result"
    }
   ],
   "source": [
    "table1"
   ]
  },
  {
   "cell_type": "markdown",
   "metadata": {},
   "source": [
    "Using a projection as a pre-processing step affects the accuracy and\n",
    "running-time of nearest neighbor classification.\n",
    "This file represents a projection matrix P with 784 rows and 20 columns. Each column is a 784-dimensional unit vector, and the columns are orthogonal to each other.\n",
    "Project the training, validation and test data onto the column space of this matrix."
   ]
  },
  {
   "cell_type": "code",
   "execution_count": 17,
   "metadata": {},
   "outputs": [],
   "source": [
    "def read_file_projection(filename):\n",
    "    temping = []\n",
    "    with open(filename) as f:\n",
    "        for line in f:\n",
    "            temp = list(map(float,line.split()))\n",
    "            temping.append(temp)\n",
    "    return np.array(temping)"
   ]
  },
  {
   "cell_type": "code",
   "execution_count": 18,
   "metadata": {},
   "outputs": [],
   "source": [
    "projection_data = read_file_projection('projection.txt')"
   ]
  },
  {
   "cell_type": "code",
   "execution_count": 19,
   "metadata": {},
   "outputs": [],
   "source": [
    "train_projected_matrix = np.matmul(x_train,projection_data)\n",
    "valid_projected_matrix = np.matmul(x_valid,projection_data)\n",
    "test_projected_matrix = np.matmul(x_test,projection_data)"
   ]
  },
  {
   "cell_type": "code",
   "execution_count": 20,
   "metadata": {},
   "outputs": [
    {
     "name": "stdout",
     "output_type": "stream",
     "text": [
      " 31.276735544204712 seconds time\n",
      " 15.567809581756592 seconds time\n",
      " 15.532227754592896 seconds time\n",
      " 30.99457550048828 seconds time\n",
      " 15.786275625228882 seconds time\n",
      " 15.743521928787231 seconds time\n",
      " 30.928754806518555 seconds time\n",
      " 15.590014457702637 seconds time\n",
      " 15.721471548080444 seconds time\n",
      " 31.444502353668213 seconds time\n",
      " 16.034120798110962 seconds time\n",
      " 15.851611852645874 seconds time\n"
     ]
    }
   ],
   "source": [
    "list_of_k = [1,5,9,15]\n",
    "training_error_rate = []\n",
    "valid_error_rate = []\n",
    "test_error_rate = []\n",
    "for i in list_of_k:\n",
    "    training_predicted = knn(train_projected_matrix,y_train,train_projected_matrix,i)\n",
    "    training_error_rate.append(1-(sum(training_predicted == y_train)/len(y_train)))\n",
    "    valid_predicted = knn(train_projected_matrix,y_train,valid_projected_matrix,i)\n",
    "    valid_error_rate.append(1-(sum(valid_predicted == y_valid)/len(y_valid)))\n",
    "    test_predicted = knn(train_projected_matrix,y_train,test_projected_matrix,i)\n",
    "    test_error_rate.append(1-(sum(test_predicted == y_test)/len(y_test)))"
   ]
  },
  {
   "cell_type": "code",
   "execution_count": 21,
   "metadata": {},
   "outputs": [],
   "source": [
    "table2 = pd.DataFrame({'k' : list_of_k,\n",
    "                                'training error' : training_error_rate,\n",
    "                                'validation error' : valid_error_rate,\n",
    "                      'test error':test_error_rate})"
   ]
  },
  {
   "cell_type": "code",
   "execution_count": 22,
   "metadata": {},
   "outputs": [
    {
     "data": {
      "text/html": [
       "<div>\n",
       "<style scoped>\n",
       "    .dataframe tbody tr th:only-of-type {\n",
       "        vertical-align: middle;\n",
       "    }\n",
       "\n",
       "    .dataframe tbody tr th {\n",
       "        vertical-align: top;\n",
       "    }\n",
       "\n",
       "    .dataframe thead th {\n",
       "        text-align: right;\n",
       "    }\n",
       "</style>\n",
       "<table border=\"1\" class=\"dataframe\">\n",
       "  <thead>\n",
       "    <tr style=\"text-align: right;\">\n",
       "      <th></th>\n",
       "      <th>k</th>\n",
       "      <th>training error</th>\n",
       "      <th>validation error</th>\n",
       "      <th>test error</th>\n",
       "    </tr>\n",
       "  </thead>\n",
       "  <tbody>\n",
       "    <tr>\n",
       "      <th>0</th>\n",
       "      <td>1</td>\n",
       "      <td>0.0000</td>\n",
       "      <td>0.320</td>\n",
       "      <td>0.314</td>\n",
       "    </tr>\n",
       "    <tr>\n",
       "      <th>1</th>\n",
       "      <td>5</td>\n",
       "      <td>0.1945</td>\n",
       "      <td>0.299</td>\n",
       "      <td>0.301</td>\n",
       "    </tr>\n",
       "    <tr>\n",
       "      <th>2</th>\n",
       "      <td>9</td>\n",
       "      <td>0.2305</td>\n",
       "      <td>0.302</td>\n",
       "      <td>0.293</td>\n",
       "    </tr>\n",
       "    <tr>\n",
       "      <th>3</th>\n",
       "      <td>15</td>\n",
       "      <td>0.2570</td>\n",
       "      <td>0.289</td>\n",
       "      <td>0.296</td>\n",
       "    </tr>\n",
       "  </tbody>\n",
       "</table>\n",
       "</div>"
      ],
      "text/plain": [
       "    k  training error  validation error  test error\n",
       "0   1          0.0000             0.320       0.314\n",
       "1   5          0.1945             0.299       0.301\n",
       "2   9          0.2305             0.302       0.293\n",
       "3  15          0.2570             0.289       0.296"
      ]
     },
     "execution_count": 22,
     "metadata": {},
     "output_type": "execute_result"
    }
   ],
   "source": [
    "table2"
   ]
  },
  {
   "cell_type": "markdown",
   "metadata": {},
   "source": [
    "The classification accuracy decrease a bit after using projection. However, the running time of my program increases"
   ]
  },
  {
   "cell_type": "code",
   "execution_count": null,
   "metadata": {},
   "outputs": [],
   "source": []
  }
 ],
 "metadata": {
  "kernelspec": {
   "display_name": "Python 3",
   "language": "python",
   "name": "python3"
  },
  "language_info": {
   "codemirror_mode": {
    "name": "ipython",
    "version": 3
   },
   "file_extension": ".py",
   "mimetype": "text/x-python",
   "name": "python",
   "nbconvert_exporter": "python",
   "pygments_lexer": "ipython3",
   "version": "3.7.6"
  }
 },
 "nbformat": 4,
 "nbformat_minor": 4
}
